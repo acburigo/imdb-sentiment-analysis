{
 "cells": [
  {
   "cell_type": "markdown",
   "metadata": {
    "heading_collapsed": true
   },
   "source": [
    "# Introduction"
   ]
  },
  {
   "cell_type": "markdown",
   "metadata": {
    "heading_collapsed": true,
    "hidden": true
   },
   "source": [
    "## IMDB Movie reviews sentiment classification"
   ]
  },
  {
   "cell_type": "markdown",
   "metadata": {
    "hidden": true
   },
   "source": [
    "Dataset of 25,000 movies reviews from IMDB, labeled by sentiment (positive/negative). Reviews have been preprocessed, and each review is encoded as a sequence of word indexes (integers). For convenience, words are indexed by overall frequency in the dataset, so that for instance the integer \"3\" encodes the 3rd most frequent word in the data. This allows for quick filtering operations such as: \"only consider the top 10,000 most common words, but eliminate the top 20 most common words\".\n",
    "\n",
    "As a convention, \"0\" does not stand for a specific word, but instead is used to encode any unknown word.\n",
    "\n",
    "Source: https://keras.io/datasets/"
   ]
  },
  {
   "cell_type": "markdown",
   "metadata": {
    "heading_collapsed": true
   },
   "source": [
    "# Prepare Dataset"
   ]
  },
  {
   "cell_type": "code",
   "execution_count": null,
   "metadata": {
    "collapsed": true,
    "hidden": true
   },
   "outputs": [],
   "source": [
    "import numpy as np\n",
    "np.random.seed(1)"
   ]
  },
  {
   "cell_type": "markdown",
   "metadata": {
    "heading_collapsed": true,
    "hidden": true
   },
   "source": [
    "## Download Dataset"
   ]
  },
  {
   "cell_type": "code",
   "execution_count": null,
   "metadata": {
    "hidden": true
   },
   "outputs": [],
   "source": [
    "import keras\n",
    "word_to_idx = keras.datasets.imdb.get_word_index()\n",
    "idx_to_word = {idx : word for word, idx in word_to_idx.items()}\n",
    "(x_trn, y_trn), (x_tst, y_tst) = keras.datasets.imdb.load_data()"
   ]
  },
  {
   "cell_type": "markdown",
   "metadata": {
    "heading_collapsed": true,
    "hidden": true
   },
   "source": [
    "## Dataset Statistics"
   ]
  },
  {
   "cell_type": "code",
   "execution_count": null,
   "metadata": {
    "hidden": true
   },
   "outputs": [],
   "source": [
    "review_sizes = [size for size in map(len, x_trn)]\n",
    "print('  Vocabulary Size: %d' % len(word_to_idx))\n",
    "print('Training Examples: %d' % x_trn.shape[0])\n",
    "print('    Test Examples: %d' % x_tst.shape[0])\n",
    "print(' Min. Review Size: %0.2f' % np.min(review_sizes))\n",
    "print(' Max. Review Size: %0.2f' % np.max(review_sizes))\n",
    "print(' Avg. Review Size: %0.2f' % np.mean(review_sizes))\n",
    "print(' Std. Review Size: %0.2f' % np.std(review_sizes))"
   ]
  },
  {
   "cell_type": "markdown",
   "metadata": {
    "heading_collapsed": true,
    "hidden": true
   },
   "source": [
    "## Truncate Vocabulary"
   ]
  },
  {
   "cell_type": "code",
   "execution_count": null,
   "metadata": {
    "collapsed": true,
    "hidden": true
   },
   "outputs": [],
   "source": [
    "def truncate_vocabulary(x, vocabulary_size):\n",
    "    for i, review in enumerate(x):\n",
    "        review = np.array(review)\n",
    "        unk_words = review >= vocabulary_size\n",
    "        review[unk_words] = vocabulary_size - 1\n",
    "        x[i] = review\n",
    "    return x"
   ]
  },
  {
   "cell_type": "code",
   "execution_count": null,
   "metadata": {
    "collapsed": true,
    "hidden": true
   },
   "outputs": [],
   "source": [
    "vocabulary_perc = 0.05\n",
    "vocabulary_size = int(vocabulary_perc * len(word_to_idx))\n",
    "x_trn = truncate_vocabulary(x_trn, vocabulary_size)\n",
    "x_tst = truncate_vocabulary(x_tst, vocabulary_size)"
   ]
  },
  {
   "cell_type": "code",
   "execution_count": null,
   "metadata": {
    "hidden": true
   },
   "outputs": [],
   "source": [
    "print('Vocabulary Size: %d' % vocabulary_size)"
   ]
  },
  {
   "cell_type": "markdown",
   "metadata": {
    "heading_collapsed": true,
    "hidden": true
   },
   "source": [
    "## Truncate Reviews"
   ]
  },
  {
   "cell_type": "code",
   "execution_count": null,
   "metadata": {
    "collapsed": true,
    "hidden": true
   },
   "outputs": [],
   "source": [
    "from keras.preprocessing.sequence import pad_sequences\n",
    "review_size = 500\n",
    "x_trn = pad_sequences(x_trn, maxlen=review_size)\n",
    "x_tst = pad_sequences(x_tst, maxlen=review_size)"
   ]
  },
  {
   "cell_type": "code",
   "execution_count": null,
   "metadata": {
    "hidden": true
   },
   "outputs": [],
   "source": [
    "x_trn.shape, x_tst.shape"
   ]
  },
  {
   "cell_type": "markdown",
   "metadata": {
    "heading_collapsed": true,
    "hidden": true
   },
   "source": [
    "## Split Training and Validation Sets"
   ]
  },
  {
   "cell_type": "code",
   "execution_count": null,
   "metadata": {
    "collapsed": true,
    "hidden": true
   },
   "outputs": [],
   "source": [
    "from sklearn.model_selection import train_test_split\n",
    "x_trn, x_val, y_trn, y_val = train_test_split(x_trn, y_trn, test_size=0.3, random_state=1)"
   ]
  },
  {
   "cell_type": "code",
   "execution_count": null,
   "metadata": {
    "hidden": true
   },
   "outputs": [],
   "source": [
    "(x_trn.shape, y_trn.shape), (x_val.shape, y_val.shape), (x_tst.shape, y_tst.shape)"
   ]
  },
  {
   "cell_type": "markdown",
   "metadata": {
    "heading_collapsed": true
   },
   "source": [
    "# Train Model"
   ]
  },
  {
   "cell_type": "code",
   "execution_count": null,
   "metadata": {
    "collapsed": true,
    "hidden": true
   },
   "outputs": [],
   "source": [
    "from keras.layers.convolutional import Conv1D\n",
    "from keras.layers.embeddings import Embedding\n",
    "from keras.layers.recurrent import LSTM\n",
    "from keras.layers.pooling import MaxPooling1D\n",
    "from keras.layers.core import Flatten, Dropout\n",
    "from keras.layers import Dense"
   ]
  },
  {
   "cell_type": "code",
   "execution_count": null,
   "metadata": {
    "collapsed": true,
    "hidden": true
   },
   "outputs": [],
   "source": [
    "def evaluate(model, x_trn, y_trn, x_val, y_val, x_tst, y_tst):\n",
    "    loss_trn, acc_trn = model.evaluate(x_trn, y_trn)\n",
    "    loss_val, acc_val = model.evaluate(x_val, y_val)\n",
    "    loss_tst, acc_tst = model.evaluate(x_tst, y_tst)\n",
    "    print()\n",
    "    print('    Train / Validation / Test Loss: %f / %f / %f' % (loss_trn, loss_val, loss_tst))\n",
    "    print('Train / Validation / Test Accuracy: %f / %f / %f' % (acc_trn, acc_val, acc_tst))"
   ]
  },
  {
   "cell_type": "markdown",
   "metadata": {
    "heading_collapsed": true,
    "hidden": true
   },
   "source": [
    "## Neural Network (Single Hidden Layer)"
   ]
  },
  {
   "cell_type": "code",
   "execution_count": null,
   "metadata": {
    "hidden": true
   },
   "outputs": [],
   "source": [
    "nn_model = keras.models.Sequential()\n",
    "nn_model.add(Embedding(vocabulary_size, 32, input_length=review_size))\n",
    "nn_model.add(Flatten())\n",
    "nn_model.add(Dense(100, activation='relu'))\n",
    "nn_model.add(Dropout(0.7, seed=1))\n",
    "nn_model.add(Dense(1, activation='sigmoid'))\n",
    "\n",
    "nn_model.compile(loss='binary_crossentropy', optimizer='adam', metrics=['accuracy'])\n",
    "nn_model.summary()"
   ]
  },
  {
   "cell_type": "code",
   "execution_count": null,
   "metadata": {
    "hidden": true
   },
   "outputs": [],
   "source": [
    "nn_model.fit(x_trn, y_trn, batch_size=32, epochs=1, validation_data=(x_val, y_val))"
   ]
  },
  {
   "cell_type": "code",
   "execution_count": null,
   "metadata": {
    "hidden": true
   },
   "outputs": [],
   "source": [
    "evaluate(nn_model, x_trn, y_trn, x_val, y_val, x_tst, y_tst)"
   ]
  },
  {
   "cell_type": "markdown",
   "metadata": {
    "heading_collapsed": true,
    "hidden": true
   },
   "source": [
    "## Convolutional Neural Network"
   ]
  },
  {
   "cell_type": "code",
   "execution_count": null,
   "metadata": {
    "hidden": true
   },
   "outputs": [],
   "source": [
    "cnn_model = keras.models.Sequential()\n",
    "cnn_model.add(Embedding(vocabulary_size, 32, input_length=review_size))\n",
    "cnn_model.add(Conv1D(64, 7, padding='same', activation='relu'))\n",
    "cnn_model.add(MaxPooling1D())\n",
    "cnn_model.add(Dropout(0.2, seed=1))\n",
    "cnn_model.add(Flatten())\n",
    "cnn_model.add(Dense(100, activation='relu'))\n",
    "cnn_model.add(Dropout(0.7, seed=1))\n",
    "cnn_model.add(Dense(1, activation='sigmoid'))\n",
    "\n",
    "cnn_model.compile(loss='binary_crossentropy', optimizer='adam', metrics=['accuracy'])\n",
    "cnn_model.summary()"
   ]
  },
  {
   "cell_type": "code",
   "execution_count": null,
   "metadata": {
    "hidden": true
   },
   "outputs": [],
   "source": [
    "cnn_model.fit(x_trn, y_trn, batch_size=32, epochs=2, validation_data=(x_val, y_val))"
   ]
  },
  {
   "cell_type": "code",
   "execution_count": null,
   "metadata": {
    "hidden": true
   },
   "outputs": [],
   "source": [
    "evaluate(cnn_model, x_trn, y_trn, x_val, y_val, x_tst, y_tst)"
   ]
  },
  {
   "cell_type": "markdown",
   "metadata": {
    "heading_collapsed": true,
    "hidden": true
   },
   "source": [
    "## Long Short Term Memory (LSTM)"
   ]
  },
  {
   "cell_type": "code",
   "execution_count": null,
   "metadata": {
    "hidden": true
   },
   "outputs": [],
   "source": [
    "lstm_model = keras.models.Sequential()\n",
    "lstm_model.add(Embedding(vocabulary_size, 64, input_length=review_size, mask_zero=True))\n",
    "lstm_model.add(LSTM(100, dropout=0.0, recurrent_dropout=0.0))\n",
    "lstm_model.add(Dense(500, activation='relu'))\n",
    "lstm_model.add(Dropout(0.5, seed=1))\n",
    "lstm_model.add(Dense(1, activation='sigmoid'))\n",
    "\n",
    "lstm_model.compile(loss='binary_crossentropy', optimizer='adam', metrics=['accuracy'])\n",
    "lstm_model.summary()"
   ]
  },
  {
   "cell_type": "code",
   "execution_count": null,
   "metadata": {
    "hidden": true
   },
   "outputs": [],
   "source": [
    "lstm_model.fit(x_trn, y_trn, batch_size=64, epochs=1, validation_data=(x_val, y_val))"
   ]
  },
  {
   "cell_type": "code",
   "execution_count": null,
   "metadata": {
    "hidden": true
   },
   "outputs": [],
   "source": [
    "evaluate(lstm_model, x_trn, y_trn, x_val, y_val, x_tst, y_tst)"
   ]
  }
 ],
 "metadata": {
  "kernelspec": {
   "display_name": "Python 3",
   "language": "python",
   "name": "python3"
  },
  "language_info": {
   "codemirror_mode": {
    "name": "ipython",
    "version": 3
   },
   "file_extension": ".py",
   "mimetype": "text/x-python",
   "name": "python",
   "nbconvert_exporter": "python",
   "pygments_lexer": "ipython3",
   "version": "3.5.3"
  },
  "toc": {
   "colors": {
    "hover_highlight": "#DAA520",
    "navigate_num": "#000000",
    "navigate_text": "#333333",
    "running_highlight": "#FF0000",
    "selected_highlight": "#FFD700",
    "sidebar_border": "#EEEEEE",
    "wrapper_background": "#FFFFFF"
   },
   "moveMenuLeft": true,
   "nav_menu": {
    "height": "195px",
    "width": "254px"
   },
   "navigate_menu": true,
   "number_sections": true,
   "sideBar": true,
   "threshold": 4,
   "toc_cell": false,
   "toc_section_display": "block",
   "toc_window_display": true,
   "widenNotebook": false
  }
 },
 "nbformat": 4,
 "nbformat_minor": 2
}
